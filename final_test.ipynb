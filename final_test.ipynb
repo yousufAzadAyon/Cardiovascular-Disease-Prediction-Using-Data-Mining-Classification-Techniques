{
  "nbformat": 4,
  "nbformat_minor": 0,
  "metadata": {
    "colab": {
      "name": "final-test.ipynb",
      "provenance": [],
      "collapsed_sections": [
        "SqHYHj3YFckH",
        "JBEtzYzRFSGZ",
        "6bARlJQAFXbh",
        "R1AoPOhCocY4",
        "7vlxLiOiE5gN",
        "mAR5XcjLWxCE",
        "i9LBAH4XW1Kd",
        "U2evtLpSW7ng",
        "8sV9BRLIXAQh",
        "O-7UxD_tXDRy",
        "JkwqUpcjXF_y",
        "MoeETZnbEF4a"
      ],
      "toc_visible": true
    },
    "kernelspec": {
      "name": "python3",
      "display_name": "Python 3"
    }
  },
  "cells": [
    {
      "cell_type": "markdown",
      "metadata": {
        "id": "SqHYHj3YFckH"
      },
      "source": [
        "# import data and libs"
      ]
    },
    {
      "cell_type": "code",
      "metadata": {
        "colab": {
          "base_uri": "https://localhost:8080/"
        },
        "id": "bDBeaeZVqEj2",
        "outputId": "e106b424-f403-46b1-f601-a4e81c5f9849"
      },
      "source": [
        "from google.colab import drive\n",
        "drive.mount('/content/gdrive')"
      ],
      "execution_count": null,
      "outputs": [
        {
          "output_type": "stream",
          "text": [
            "Mounted at /content/gdrive\n"
          ],
          "name": "stdout"
        }
      ]
    },
    {
      "cell_type": "code",
      "metadata": {
        "id": "LSDS9QaAqpQN"
      },
      "source": [
        "import numpy as np \n",
        "import pandas as pd \n",
        "import matplotlib.pyplot as plt \n",
        "import seaborn as sns \n",
        "from sklearn.linear_model import SGDClassifier\n",
        "from sklearn.ensemble import RandomForestClassifier\n",
        "from sklearn.linear_model import LogisticRegression\n",
        "from sklearn.neighbors import KNeighborsClassifier\n",
        "from sklearn.tree import DecisionTreeClassifier\n",
        "from sklearn.metrics import accuracy_score\n",
        "from sklearn.naive_bayes import GaussianNB\n",
        "from xgboost import XGBClassifier\n",
        "from sklearn.ensemble import BaggingClassifier\n",
        "from sklearn.svm import SVC"
      ],
      "execution_count": null,
      "outputs": []
    },
    {
      "cell_type": "code",
      "metadata": {
        "colab": {
          "base_uri": "https://localhost:8080/",
          "height": 204
        },
        "id": "0u4TypQ6rwcl",
        "outputId": "41ad9114-a796-4144-ce43-6228fc46fd72"
      },
      "source": [
        "df=pd.read_csv(\"gdrive/MyDrive/dataset/heart.csv\")\n",
        "df.head(5)"
      ],
      "execution_count": null,
      "outputs": [
        {
          "output_type": "execute_result",
          "data": {
            "text/html": [
              "<div>\n",
              "<style scoped>\n",
              "    .dataframe tbody tr th:only-of-type {\n",
              "        vertical-align: middle;\n",
              "    }\n",
              "\n",
              "    .dataframe tbody tr th {\n",
              "        vertical-align: top;\n",
              "    }\n",
              "\n",
              "    .dataframe thead th {\n",
              "        text-align: right;\n",
              "    }\n",
              "</style>\n",
              "<table border=\"1\" class=\"dataframe\">\n",
              "  <thead>\n",
              "    <tr style=\"text-align: right;\">\n",
              "      <th></th>\n",
              "      <th>age</th>\n",
              "      <th>sex</th>\n",
              "      <th>cp</th>\n",
              "      <th>trestbps</th>\n",
              "      <th>chol</th>\n",
              "      <th>fbs</th>\n",
              "      <th>restecg</th>\n",
              "      <th>thalach</th>\n",
              "      <th>exang</th>\n",
              "      <th>oldpeak</th>\n",
              "      <th>slope</th>\n",
              "      <th>ca</th>\n",
              "      <th>thal</th>\n",
              "      <th>target</th>\n",
              "    </tr>\n",
              "  </thead>\n",
              "  <tbody>\n",
              "    <tr>\n",
              "      <th>0</th>\n",
              "      <td>63</td>\n",
              "      <td>1</td>\n",
              "      <td>3</td>\n",
              "      <td>145</td>\n",
              "      <td>233</td>\n",
              "      <td>1</td>\n",
              "      <td>0</td>\n",
              "      <td>150</td>\n",
              "      <td>0</td>\n",
              "      <td>2.3</td>\n",
              "      <td>0</td>\n",
              "      <td>0</td>\n",
              "      <td>1</td>\n",
              "      <td>1</td>\n",
              "    </tr>\n",
              "    <tr>\n",
              "      <th>1</th>\n",
              "      <td>37</td>\n",
              "      <td>1</td>\n",
              "      <td>2</td>\n",
              "      <td>130</td>\n",
              "      <td>250</td>\n",
              "      <td>0</td>\n",
              "      <td>1</td>\n",
              "      <td>187</td>\n",
              "      <td>0</td>\n",
              "      <td>3.5</td>\n",
              "      <td>0</td>\n",
              "      <td>0</td>\n",
              "      <td>2</td>\n",
              "      <td>1</td>\n",
              "    </tr>\n",
              "    <tr>\n",
              "      <th>2</th>\n",
              "      <td>41</td>\n",
              "      <td>0</td>\n",
              "      <td>1</td>\n",
              "      <td>130</td>\n",
              "      <td>204</td>\n",
              "      <td>0</td>\n",
              "      <td>0</td>\n",
              "      <td>172</td>\n",
              "      <td>0</td>\n",
              "      <td>1.4</td>\n",
              "      <td>2</td>\n",
              "      <td>0</td>\n",
              "      <td>2</td>\n",
              "      <td>1</td>\n",
              "    </tr>\n",
              "    <tr>\n",
              "      <th>3</th>\n",
              "      <td>56</td>\n",
              "      <td>1</td>\n",
              "      <td>1</td>\n",
              "      <td>120</td>\n",
              "      <td>236</td>\n",
              "      <td>0</td>\n",
              "      <td>1</td>\n",
              "      <td>178</td>\n",
              "      <td>0</td>\n",
              "      <td>0.8</td>\n",
              "      <td>2</td>\n",
              "      <td>0</td>\n",
              "      <td>2</td>\n",
              "      <td>1</td>\n",
              "    </tr>\n",
              "    <tr>\n",
              "      <th>4</th>\n",
              "      <td>57</td>\n",
              "      <td>0</td>\n",
              "      <td>0</td>\n",
              "      <td>120</td>\n",
              "      <td>354</td>\n",
              "      <td>0</td>\n",
              "      <td>1</td>\n",
              "      <td>163</td>\n",
              "      <td>1</td>\n",
              "      <td>0.6</td>\n",
              "      <td>2</td>\n",
              "      <td>0</td>\n",
              "      <td>2</td>\n",
              "      <td>1</td>\n",
              "    </tr>\n",
              "  </tbody>\n",
              "</table>\n",
              "</div>"
            ],
            "text/plain": [
              "   age  sex  cp  trestbps  chol  fbs  ...  exang  oldpeak  slope  ca  thal  target\n",
              "0   63    1   3       145   233    1  ...      0      2.3      0   0     1       1\n",
              "1   37    1   2       130   250    0  ...      0      3.5      0   0     2       1\n",
              "2   41    0   1       130   204    0  ...      0      1.4      2   0     2       1\n",
              "3   56    1   1       120   236    0  ...      0      0.8      2   0     2       1\n",
              "4   57    0   0       120   354    0  ...      1      0.6      2   0     2       1\n",
              "\n",
              "[5 rows x 14 columns]"
            ]
          },
          "metadata": {
            "tags": []
          },
          "execution_count": 3
        }
      ]
    },
    {
      "cell_type": "markdown",
      "metadata": {
        "id": "JBEtzYzRFSGZ"
      },
      "source": [
        "# graphs"
      ]
    },
    {
      "cell_type": "code",
      "metadata": {
        "colab": {
          "base_uri": "https://localhost:8080/",
          "height": 626
        },
        "id": "0MqPAsAdsJJb",
        "outputId": "ad8096be-60fe-44cf-b063-866f72b6b5f4"
      },
      "source": [
        "plt.figure(figsize=(10,10))\n",
        "sns.heatmap(df.corr(),annot=True,fmt='.1f')\n",
        "plt.show()"
      ],
      "execution_count": null,
      "outputs": [
        {
          "output_type": "display_data",
          "data": {
            "image/png": "[encoded data removed]",
            "text/plain": [
              "<Figure size 720x720 with 2 Axes>"
            ]
          },
          "metadata": {
            "tags": [],
            "needs_background": "light"
          }
        }
      ]
    },
    {
      "cell_type": "code",
      "metadata": {
        "colab": {
          "base_uri": "https://localhost:8080/"
        },
        "id": "MRABOjHPsPL0",
        "outputId": "60211807-2126-4c6e-e453-a76cf6979b2b"
      },
      "source": [
        "df.target.value_counts()"
      ],
      "execution_count": null,
      "outputs": [
        {
          "output_type": "execute_result",
          "data": {
            "text/plain": [
              "1    165\n",
              "0    138\n",
              "Name: target, dtype: int64"
            ]
          },
          "metadata": {
            "tags": []
          },
          "execution_count": 5
        }
      ]
    },
    {
      "cell_type": "code",
      "metadata": {
        "colab": {
          "base_uri": "https://localhost:8080/",
          "height": 279
        },
        "id": "zFt8InocsSfZ",
        "outputId": "5f8cabeb-5c07-44a4-a30d-9860e67bf8fc"
      },
      "source": [
        "sns.countplot(x=\"target\", data=df, palette=\"bwr\")\n",
        "plt.show()"
      ],
      "execution_count": null,
      "outputs": [
        {
          "output_type": "display_data",
          "data": {
            "image/png": "[encoded data removed]",
            "text/plain": [
              "<Figure size 432x288 with 1 Axes>"
            ]
          },
          "metadata": {
            "tags": [],
            "needs_background": "light"
          }
        }
      ]
    },
    {
      "cell_type": "code",
      "metadata": {
        "colab": {
          "base_uri": "https://localhost:8080/",
          "height": 371
        },
        "id": "iKEDZpCvsUwR",
        "outputId": "470fb060-8992-4b1f-e46f-737d66f21203"
      },
      "source": [
        "sns.distplot(df['age'],rug=True)\n",
        "plt.show()"
      ],
      "execution_count": null,
      "outputs": [
        {
          "output_type": "stream",
          "text": [
            "/usr/local/lib/python3.6/dist-packages/seaborn/distributions.py:2557: FutureWarning: `distplot` is a deprecated function and will be removed in a future version. Please adapt your code to use either `displot` (a figure-level function with similar flexibility) or `histplot` (an axes-level function for histograms).\n",
            "  warnings.warn(msg, FutureWarning)\n",
            "/usr/local/lib/python3.6/dist-packages/seaborn/distributions.py:2056: FutureWarning: The `axis` variable is no longer used and will be removed. Instead, assign variables directly to `x` or `y`.\n",
            "  warnings.warn(msg, FutureWarning)\n"
          ],
          "name": "stderr"
        },
        {
          "output_type": "display_data",
          "data": {
            "image/png": "[encoded data removed]",
            "text/plain": [
              "<Figure size 432x288 with 1 Axes>"
            ]
          },
          "metadata": {
            "tags": [],
            "needs_background": "light"
          }
        }
      ]
    },
    {
      "cell_type": "code",
      "metadata": {
        "colab": {
          "base_uri": "https://localhost:8080/"
        },
        "id": "bEXAPg65sW1N",
        "outputId": "b69b5497-423d-445d-b5de-1cd338c5c508"
      },
      "source": [
        "df.sex.value_counts()"
      ],
      "execution_count": null,
      "outputs": [
        {
          "output_type": "execute_result",
          "data": {
            "text/plain": [
              "1    207\n",
              "0     96\n",
              "Name: sex, dtype: int64"
            ]
          },
          "metadata": {
            "tags": []
          },
          "execution_count": 8
        }
      ]
    },
    {
      "cell_type": "code",
      "metadata": {
        "colab": {
          "base_uri": "https://localhost:8080/",
          "height": 279
        },
        "id": "TxweSPW1sZOo",
        "outputId": "f71b4549-7d7d-4935-fa85-b599007945cd"
      },
      "source": [
        "sns.countplot(x='sex', data=df)\n",
        "plt.xlabel(\"Sex (0 = female, 1= male)\")\n",
        "plt.show()"
      ],
      "execution_count": null,
      "outputs": [
        {
          "output_type": "display_data",
          "data": {
            "image/png": "[encoded data removed]",
            "text/plain": [
              "<Figure size 432x288 with 1 Axes>"
            ]
          },
          "metadata": {
            "tags": [],
            "needs_background": "light"
          }
        }
      ]
    },
    {
      "cell_type": "code",
      "metadata": {
        "colab": {
          "base_uri": "https://localhost:8080/",
          "height": 279
        },
        "id": "LqMysQLzscS0",
        "outputId": "aee3cd8f-d11e-4630-f3ba-808b4e34e75f"
      },
      "source": [
        "plt.figure(num=None, figsize=(7, 4))\n",
        "\n",
        "sns.barplot(y='thalach', x='target',hue='sex', data=df)\n",
        "plt.show()"
      ],
      "execution_count": null,
      "outputs": [
        {
          "output_type": "display_data",
          "data": {
            "image/png": "[encoded data removed]",
            "text/plain": [
              "<Figure size 504x288 with 1 Axes>"
            ]
          },
          "metadata": {
            "tags": [],
            "needs_background": "light"
          }
        }
      ]
    },
    {
      "cell_type": "code",
      "metadata": {
        "colab": {
          "base_uri": "https://localhost:8080/",
          "height": 334
        },
        "id": "07_wWO_OsefE",
        "outputId": "9ed224ee-ad5e-42fd-e173-56b2a1c3a2f9"
      },
      "source": [
        "pd.crosstab(df.sex,df.target).plot(kind=\"bar\",figsize=(10,5),color=['#66bb6a','#26a69a' ])\n",
        "plt.xlabel('Sex (0 = Female, 1 = Male)')\n",
        "plt.xticks(rotation=0)\n",
        "plt.legend([\"Haven't Disease\", \"Have Disease\"])\n",
        "plt.ylabel('Frequency')\n",
        "plt.show()"
      ],
      "execution_count": null,
      "outputs": [
        {
          "output_type": "display_data",
          "data": {
            "image/png": "[encoded data removed]",
            "text/plain": [
              "<Figure size 720x360 with 1 Axes>"
            ]
          },
          "metadata": {
            "tags": [],
            "needs_background": "light"
          }
        }
      ]
    },
    {
      "cell_type": "code",
      "metadata": {
        "colab": {
          "base_uri": "https://localhost:8080/",
          "height": 279
        },
        "id": "YTspRg_Lsgnv",
        "outputId": "29c68f5d-2b58-4515-92dd-aff0fe344145"
      },
      "source": [
        "sns.countplot(x='cp', data=df)\n",
        "plt.xlabel('Chest Pain Type')\n",
        "plt.show()"
      ],
      "execution_count": null,
      "outputs": [
        {
          "output_type": "display_data",
          "data": {
            "image/png": "[encoded data removed]",
            "text/plain": [
              "<Figure size 432x288 with 1 Axes>"
            ]
          },
          "metadata": {
            "tags": [],
            "needs_background": "light"
          }
        }
      ]
    },
    {
      "cell_type": "code",
      "metadata": {
        "colab": {
          "base_uri": "https://localhost:8080/",
          "height": 334
        },
        "id": "F-Uxmy7ksjN_",
        "outputId": "2cb54d69-92d0-4ffd-8d9c-820ead47523d"
      },
      "source": [
        "pd.crosstab(df.cp,df.target).plot(kind=\"bar\",figsize=(10,5),color=['#66bb6a','#26a69a' ])\n",
        "plt.xlabel('Chest Pain Type')\n",
        "plt.xticks(rotation = 0)\n",
        "plt.ylabel('Frequency of Disease or Not')\n",
        "plt.show()"
      ],
      "execution_count": null,
      "outputs": [
        {
          "output_type": "display_data",
          "data": {
            "image/png": "[encoded data removed]",
            "text/plain": [
              "<Figure size 720x360 with 1 Axes>"
            ]
          },
          "metadata": {
            "tags": [],
            "needs_background": "light"
          }
        }
      ]
    },
    {
      "cell_type": "code",
      "metadata": {
        "id": "zDmhRsHzslxx",
        "colab": {
          "base_uri": "https://localhost:8080/",
          "height": 279
        },
        "outputId": "18db165e-cd7a-4e97-c8de-3c666af8d773"
      },
      "source": [
        "sns.barplot(x=df.thalach.value_counts()[:10].index,y=df.thalach.value_counts()[:10].values)\n",
        "plt.xlabel('max heart rate')\n",
        "plt.ylabel('Counter')\n",
        "plt.show()"
      ],
      "execution_count": null,
      "outputs": [
        {
          "output_type": "display_data",
          "data": {
            "image/png": "[encoded data removed]",
            "text/plain": [
              "<Figure size 432x288 with 1 Axes>"
            ]
          },
          "metadata": {
            "tags": [],
            "needs_background": "light"
          }
        }
      ]
    },
    {
      "cell_type": "markdown",
      "metadata": {
        "id": "6bARlJQAFXbh"
      },
      "source": [
        "# split"
      ]
    },
    {
      "cell_type": "code",
      "metadata": {
        "id": "v4yq1H61sn-h"
      },
      "source": [
        "chestPain=pd.get_dummies(df['cp'],prefix='cp',drop_first=True)\n",
        "df=pd.concat([df,chestPain],axis=1)\n",
        "df.drop(['cp'],axis=1,inplace=True)\n",
        "sp=pd.get_dummies(df['slope'],prefix='slope')\n",
        "th=pd.get_dummies(df['thal'],prefix='thal')\n",
        "frames=[df,sp,th]\n",
        "df=pd.concat(frames,axis=1)\n",
        "df.drop(['slope','thal'],axis=1,inplace=True)"
      ],
      "execution_count": null,
      "outputs": []
    },
    {
      "cell_type": "code",
      "metadata": {
        "colab": {
          "base_uri": "https://localhost:8080/",
          "height": 204
        },
        "id": "omcmN8xvMcCC",
        "outputId": "a74781d4-f549-4acb-a77e-2fa282050340"
      },
      "source": [
        "df.head(5)"
      ],
      "execution_count": null,
      "outputs": [
        {
          "output_type": "execute_result",
          "data": {
            "text/html": [
              "<div>\n",
              "<style scoped>\n",
              "    .dataframe tbody tr th:only-of-type {\n",
              "        vertical-align: middle;\n",
              "    }\n",
              "\n",
              "    .dataframe tbody tr th {\n",
              "        vertical-align: top;\n",
              "    }\n",
              "\n",
              "    .dataframe thead th {\n",
              "        text-align: right;\n",
              "    }\n",
              "</style>\n",
              "<table border=\"1\" class=\"dataframe\">\n",
              "  <thead>\n",
              "    <tr style=\"text-align: right;\">\n",
              "      <th></th>\n",
              "      <th>age</th>\n",
              "      <th>sex</th>\n",
              "      <th>trestbps</th>\n",
              "      <th>chol</th>\n",
              "      <th>fbs</th>\n",
              "      <th>restecg</th>\n",
              "      <th>thalach</th>\n",
              "      <th>exang</th>\n",
              "      <th>oldpeak</th>\n",
              "      <th>ca</th>\n",
              "      <th>target</th>\n",
              "      <th>cp_1</th>\n",
              "      <th>cp_2</th>\n",
              "      <th>cp_3</th>\n",
              "      <th>slope_0</th>\n",
              "      <th>slope_1</th>\n",
              "      <th>slope_2</th>\n",
              "      <th>thal_0</th>\n",
              "      <th>thal_1</th>\n",
              "      <th>thal_2</th>\n",
              "      <th>thal_3</th>\n",
              "    </tr>\n",
              "  </thead>\n",
              "  <tbody>\n",
              "    <tr>\n",
              "      <th>0</th>\n",
              "      <td>63</td>\n",
              "      <td>1</td>\n",
              "      <td>145</td>\n",
              "      <td>233</td>\n",
              "      <td>1</td>\n",
              "      <td>0</td>\n",
              "      <td>150</td>\n",
              "      <td>0</td>\n",
              "      <td>2.3</td>\n",
              "      <td>0</td>\n",
              "      <td>1</td>\n",
              "      <td>0</td>\n",
              "      <td>0</td>\n",
              "      <td>1</td>\n",
              "      <td>1</td>\n",
              "      <td>0</td>\n",
              "      <td>0</td>\n",
              "      <td>0</td>\n",
              "      <td>1</td>\n",
              "      <td>0</td>\n",
              "      <td>0</td>\n",
              "    </tr>\n",
              "    <tr>\n",
              "      <th>1</th>\n",
              "      <td>37</td>\n",
              "      <td>1</td>\n",
              "      <td>130</td>\n",
              "      <td>250</td>\n",
              "      <td>0</td>\n",
              "      <td>1</td>\n",
              "      <td>187</td>\n",
              "      <td>0</td>\n",
              "      <td>3.5</td>\n",
              "      <td>0</td>\n",
              "      <td>1</td>\n",
              "      <td>0</td>\n",
              "      <td>1</td>\n",
              "      <td>0</td>\n",
              "      <td>1</td>\n",
              "      <td>0</td>\n",
              "      <td>0</td>\n",
              "      <td>0</td>\n",
              "      <td>0</td>\n",
              "      <td>1</td>\n",
              "      <td>0</td>\n",
              "    </tr>\n",
              "    <tr>\n",
              "      <th>2</th>\n",
              "      <td>41</td>\n",
              "      <td>0</td>\n",
              "      <td>130</td>\n",
              "      <td>204</td>\n",
              "      <td>0</td>\n",
              "      <td>0</td>\n",
              "      <td>172</td>\n",
              "      <td>0</td>\n",
              "      <td>1.4</td>\n",
              "      <td>0</td>\n",
              "      <td>1</td>\n",
              "      <td>1</td>\n",
              "      <td>0</td>\n",
              "      <td>0</td>\n",
              "      <td>0</td>\n",
              "      <td>0</td>\n",
              "      <td>1</td>\n",
              "      <td>0</td>\n",
              "      <td>0</td>\n",
              "      <td>1</td>\n",
              "      <td>0</td>\n",
              "    </tr>\n",
              "    <tr>\n",
              "      <th>3</th>\n",
              "      <td>56</td>\n",
              "      <td>1</td>\n",
              "      <td>120</td>\n",
              "      <td>236</td>\n",
              "      <td>0</td>\n",
              "      <td>1</td>\n",
              "      <td>178</td>\n",
              "      <td>0</td>\n",
              "      <td>0.8</td>\n",
              "      <td>0</td>\n",
              "      <td>1</td>\n",
              "      <td>1</td>\n",
              "      <td>0</td>\n",
              "      <td>0</td>\n",
              "      <td>0</td>\n",
              "      <td>0</td>\n",
              "      <td>1</td>\n",
              "      <td>0</td>\n",
              "      <td>0</td>\n",
              "      <td>1</td>\n",
              "      <td>0</td>\n",
              "    </tr>\n",
              "    <tr>\n",
              "      <th>4</th>\n",
              "      <td>57</td>\n",
              "      <td>0</td>\n",
              "      <td>120</td>\n",
              "      <td>354</td>\n",
              "      <td>0</td>\n",
              "      <td>1</td>\n",
              "      <td>163</td>\n",
              "      <td>1</td>\n",
              "      <td>0.6</td>\n",
              "      <td>0</td>\n",
              "      <td>1</td>\n",
              "      <td>0</td>\n",
              "      <td>0</td>\n",
              "      <td>0</td>\n",
              "      <td>0</td>\n",
              "      <td>0</td>\n",
              "      <td>1</td>\n",
              "      <td>0</td>\n",
              "      <td>0</td>\n",
              "      <td>1</td>\n",
              "      <td>0</td>\n",
              "    </tr>\n",
              "  </tbody>\n",
              "</table>\n",
              "</div>"
            ],
            "text/plain": [
              "   age  sex  trestbps  chol  fbs  ...  slope_2  thal_0  thal_1  thal_2  thal_3\n",
              "0   63    1       145   233    1  ...        0       0       1       0       0\n",
              "1   37    1       130   250    0  ...        0       0       0       1       0\n",
              "2   41    0       130   204    0  ...        1       0       0       1       0\n",
              "3   56    1       120   236    0  ...        1       0       0       1       0\n",
              "4   57    0       120   354    0  ...        1       0       0       1       0\n",
              "\n",
              "[5 rows x 21 columns]"
            ]
          },
          "metadata": {
            "tags": []
          },
          "execution_count": 16
        }
      ]
    },
    {
      "cell_type": "code",
      "metadata": {
        "id": "fIqSBLfdMd1v"
      },
      "source": [
        "X = df.drop(['target'], axis = 1)\n",
        "y = df.target.values"
      ],
      "execution_count": null,
      "outputs": []
    },
    {
      "cell_type": "code",
      "metadata": {
        "id": "Onn_2KL-MgPh"
      },
      "source": [
        "from sklearn.model_selection import train_test_split\n",
        "X_train, X_test, y_train, y_test = train_test_split(X, y, test_size = 0.2, random_state=2)"
      ],
      "execution_count": null,
      "outputs": []
    },
    {
      "cell_type": "code",
      "metadata": {
        "id": "keezGBxeMhyS"
      },
      "source": [
        "from sklearn.preprocessing import StandardScaler\n",
        "sc_X=StandardScaler()\n",
        "X_train=sc_X.fit_transform(X_train)\n",
        "X_test=sc_X.transform(X_test)"
      ],
      "execution_count": null,
      "outputs": []
    },
    {
      "cell_type": "markdown",
      "metadata": {
        "id": "R1AoPOhCocY4"
      },
      "source": [
        "# models"
      ]
    },
    {
      "cell_type": "code",
      "metadata": {
        "id": "fcoVhckgMjOL"
      },
      "source": [
        "#LogisticRegression\n",
        "logiReg=LogisticRegression(C=0.23357214690901212, class_weight=None, dual=False,\n",
        "                   fit_intercept=True, intercept_scaling=1, l1_ratio=None,\n",
        "                   max_iter=100, multi_class='auto', n_jobs=None, penalty='l2',\n",
        "                   random_state=None, solver='liblinear', tol=0.0001, verbose=0,\n",
        "                   warm_start=False)\n",
        "logiReg.fit(X_train,y_train)\n",
        "logiRegPred=logiReg.predict(X_test)\n",
        "logiRegAcu=accuracy_score(y_test, logiRegPred)\n",
        "\n",
        "#SVM classifier\n",
        "svc=SVC(C=1000, break_ties=False, cache_size=200, class_weight=None, coef0=0.0,\n",
        "    decision_function_shape='ovr', degree=3, gamma=0.0001, kernel='rbf',\n",
        "    max_iter=-1, probability=True, random_state=None, shrinking=True,\n",
        "    tol=0.001, verbose=False)\n",
        "svc.fit(X_train,y_train)\n",
        "svcPred=svc.predict(X_test)\n",
        "svcAcu=accuracy_score(y_test, svcPred)\n",
        "\n",
        "#Bayes\n",
        "bayes=GaussianNB()\n",
        "bayes.fit(X_train,y_train)\n",
        "bayesPred=bayes.predict(X_test)\n",
        "bayesAcu=accuracy_score(bayesPred,y_test)\n",
        "\n",
        "#RandomForest\n",
        "randomForest=RandomForestClassifier(bootstrap=True, ccp_alpha=0.0, class_weight=None,\n",
        "                       criterion='entropy', max_depth=7, max_features='log2',\n",
        "                       max_leaf_nodes=None, max_samples=None,\n",
        "                       min_impurity_decrease=0.0, min_impurity_split=None,\n",
        "                       min_samples_leaf=1, min_samples_split=2,\n",
        "                       min_weight_fraction_leaf=0.0, n_estimators=500,\n",
        "                       n_jobs=None, oob_score=False, random_state=None,\n",
        "                       verbose=0, warm_start=False)\n",
        "randomForest.fit(X_train,y_train)\n",
        "randomForestPred=randomForest.predict(X_test)\n",
        "randomForestAcu=accuracy_score(randomForestPred,y_test)\n",
        "\n",
        "# DecisionTree Classifier\n",
        "dTree=DecisionTreeClassifier(ccp_alpha=0.0, class_weight=None, criterion='entropy',\n",
        "                       max_depth=4, max_features=None, max_leaf_nodes=None,\n",
        "                       min_impurity_decrease=0.0, min_impurity_split=None,\n",
        "                       min_samples_leaf=1, min_samples_split=30,\n",
        "                       min_weight_fraction_leaf=0.0, presort='deprecated',\n",
        "                       random_state=None, splitter='best')\n",
        "dTree.fit(X_train,y_train)\n",
        "dTreePred=dTree.predict(X_test)\n",
        "dTreeAcu=accuracy_score(dTreePred,y_test)\n",
        "\n",
        "#KNN\n",
        "knn=KNeighborsClassifier(algorithm='auto', leaf_size=1, metric='minkowski',\n",
        "                     metric_params=None, n_jobs=-1, n_neighbors=13, p=2,\n",
        "                     weights='uniform')\n",
        "knn.fit(X_train,y_train)\n",
        "knnPred=knn.predict(X_test)\n",
        "knnAcu=accuracy_score(knnPred,y_test)\n",
        "\n",
        "#XGB\n",
        "xgboost = XGBClassifier(base_score=0.5, booster='gbtree', colsample_bylevel=1,\n",
        "              colsample_bynode=1, colsample_bytree=1, gamma=0,\n",
        "              learning_rate=0.1, max_delta_step=0, max_depth=1,\n",
        "              min_child_weight=1, missing=None, n_estimators=100, n_jobs=1,\n",
        "              nthread=None, objective='binary:logistic', random_state=0,\n",
        "              reg_alpha=0, reg_lambda=1, scale_pos_weight=1, seed=None,\n",
        "              silent=None, subsample=0.5, verbosity=0)\n",
        "xgboost.fit(X_train, y_train)\n",
        "xgboost_pred = xgboost.predict(X_test)\n",
        "xgboost_accu = accuracy_score(y_test, xgboost_pred)\n"
      ],
      "execution_count": null,
      "outputs": []
    },
    {
      "source": [
        "# matrix score"
      ],
      "cell_type": "markdown",
      "metadata": {}
    },
    {
      "cell_type": "code",
      "metadata": {
        "id": "DZyKGmQyMoVm"
      },
      "source": [
        "from sklearn.metrics import confusion_matrix\n",
        "from sklearn import metrics"
      ],
      "execution_count": null,
      "outputs": []
    },
    {
      "cell_type": "code",
      "metadata": {
        "id": "IP--raJKMsq6"
      },
      "source": [
        "lr_conf_matrix = confusion_matrix(y_test, logiRegPred)\n",
        "svc_conf_matrix = confusion_matrix(y_test, svcPred)\n",
        "knn_conf_matrix = confusion_matrix(y_test, knnPred)\n",
        "dTree_conf_matrix = confusion_matrix(y_test, dTreePred)\n",
        "randomForest_conf_matrix = confusion_matrix(y_test, randomForestPred)\n",
        "bayes_conf_matrix = confusion_matrix(y_test, bayesPred)\n",
        "xgboost_conf_matrix = confusion_matrix(y_test, xgboost_pred)\n"
      ],
      "execution_count": null,
      "outputs": []
    },
    {
      "cell_type": "code",
      "metadata": {
        "colab": {
          "base_uri": "https://localhost:8080/"
        },
        "id": "_1SXHszNMuWh",
        "outputId": "0399ed94-8dcf-4c9c-9c1b-e67ab5e8a66f"
      },
      "source": [
        "print(f'Logistic Regression\\n{lr_conf_matrix}')\n",
        "print(f'SVC\\n{svc_conf_matrix}')\n",
        "print(f'KNN\\n{knn_conf_matrix}')\n",
        "print(f'Decision Tree\\n{dTree_conf_matrix}')\n",
        "print(f'Random Forest\\n{randomForest_conf_matrix}')\n",
        "print(f'Bayes\\n{bayes_conf_matrix}')\n",
        "print(f'XGBoost\\n{xgboost_conf_matrix}')"
      ],
      "execution_count": null,
      "outputs": [
        {
          "output_type": "stream",
          "text": [
            "Logistic Regression\n",
            "[[26  6]\n",
            " [ 1 28]]\n",
            "SVC\n",
            "[[26  6]\n",
            " [ 1 28]]\n",
            "KNN\n",
            "[[28  4]\n",
            " [ 2 27]]\n",
            "Decision Tree\n",
            "[[28  4]\n",
            " [ 2 27]]\n",
            "Random Forest\n",
            "[[26  6]\n",
            " [ 0 29]]\n",
            "Bayes\n",
            "[[28  4]\n",
            " [ 2 27]]\n",
            "XGBoost\n",
            "[[27  5]\n",
            " [ 0 29]]\n"
          ],
          "name": "stdout"
        }
      ]
    },
    {
      "cell_type": "markdown",
      "metadata": {
        "id": "gfmRQb799zXM"
      },
      "source": [
        "# accuracy, specification, sensitivity, precision AUC, f1 score, and ROC"
      ]
    },
    {
      "cell_type": "code",
      "metadata": {
        "id": "KxBflK9EMwnl"
      },
      "source": [
        "from sklearn.metrics import roc_curve\n",
        "from sklearn.metrics import auc\n",
        "from sklearn.metrics import precision_recall_curve\n",
        "from sklearn.metrics import precision_score\n",
        "from sklearn.metrics import recall_score\n",
        "from sklearn.metrics import f1_score\n",
        "from sklearn.metrics import accuracy_score\n",
        "from sklearn.metrics import average_precision_score\n",
        "from inspect import signature"
      ],
      "execution_count": null,
      "outputs": []
    },
    {
      "cell_type": "markdown",
      "metadata": {
        "id": "7vlxLiOiE5gN"
      },
      "source": [
        "# XGBoost"
      ]
    },
    {
      "cell_type": "code",
      "metadata": {
        "id": "pII13_VBQ9Rc"
      },
      "source": [
        "probs = xgboost.predict_proba(X_test)"
      ],
      "execution_count": null,
      "outputs": []
    },
    {
      "cell_type": "code",
      "metadata": {
        "id": "e2fRHd6fQ9Ju"
      },
      "source": [
        "malignant_probs = probs[:,1]\n",
        "fpr, tpr, thresholds = roc_curve(y_test, malignant_probs)\n",
        "roc_auc = auc(fpr, tpr)"
      ],
      "execution_count": null,
      "outputs": []
    },
    {
      "cell_type": "code",
      "metadata": {
        "colab": {
          "base_uri": "https://localhost:8080/",
          "height": 295
        },
        "id": "ccsQiojqQ9CX",
        "outputId": "4583fdf3-43d4-4f4d-8471-caefc3a6704c"
      },
      "source": [
        "plt.title('Receiver Operating Characteristic(ROC)')\n",
        "plt.plot(fpr, tpr, 'y', label = 'AUC = %0.2f' % roc_auc)\n",
        "plt.legend(loc = 'lower right')\n",
        "plt.plot([0, 1], [0, 1],'r--')\n",
        "plt.xlim([-0.05, 1.05])\n",
        "plt.ylim([-0.05, 1.05])\n",
        "plt.ylabel('True Positive Rate')\n",
        "plt.xlabel('False Positive Rate')\n",
        "plt.show()"
      ],
      "execution_count": null,
      "outputs": [
        {
          "output_type": "display_data",
          "data": {
            "image/png": "[encoded data removed]",
            "text/plain": [
              "<Figure size 432x288 with 1 Axes>"
            ]
          },
          "metadata": {
            "tags": [],
            "needs_background": "light"
          }
        }
      ]
    },
    {
      "cell_type": "code",
      "metadata": {
        "id": "7PQ5vdULQ86Y"
      },
      "source": [
        "y_pred = xgboost.predict(X_test)"
      ],
      "execution_count": null,
      "outputs": []
    },
    {
      "cell_type": "code",
      "metadata": {
        "colab": {
          "base_uri": "https://localhost:8080/"
        },
        "id": "lDxZ5Nn4Q8yx",
        "outputId": "4eb2438f-5793-4942-85d4-ce32f3c0ddb9"
      },
      "source": [
        "print(\"recall score: \", recall_score(y_test, y_pred))\n",
        "print(\"precision score: \", precision_score(y_test, y_pred))\n",
        "print(\"f1 score: \", f1_score(y_test, y_pred))\n",
        "print(\"accuracy: \", accuracy_score(y_test, y_pred))\n"
      ],
      "execution_count": null,
      "outputs": [
        {
          "output_type": "stream",
          "text": [
            "recall score:  1.0\n",
            "precision score:  0.8529411764705882\n",
            "f1 score:  0.9206349206349206\n",
            "accuracy:  0.9180327868852459\n"
          ],
          "name": "stdout"
        }
      ]
    },
    {
      "cell_type": "code",
      "metadata": {
        "colab": {
          "base_uri": "https://localhost:8080/"
        },
        "id": "m4RpnyBIQ8qZ",
        "outputId": "8639840c-acd4-4a56-de68-e4ae06cbebd2"
      },
      "source": [
        "total = sum(sum(xgboost_conf_matrix))\n",
        "accuracy=(xgboost_conf_matrix[0,0]+xgboost_conf_matrix[1,1])/total\n",
        "print ('Accuracy : ', accuracy)\n",
        "\n",
        "sensitivity = xgboost_conf_matrix[0,0]/(xgboost_conf_matrix[0,0]+xgboost_conf_matrix[0,1])\n",
        "print('Sensitivity : ', sensitivity )\n",
        "\n",
        "specificity = xgboost_conf_matrix[1,1]/(xgboost_conf_matrix[1,0]+xgboost_conf_matrix[1,1])\n",
        "print('Specificity : ', specificity)"
      ],
      "execution_count": null,
      "outputs": [
        {
          "output_type": "stream",
          "text": [
            "Accuracy :  0.9180327868852459\n",
            "Sensitivity :  0.84375\n",
            "Specificity :  1.0\n"
          ],
          "name": "stdout"
        }
      ]
    },
    {
      "cell_type": "markdown",
      "metadata": {
        "id": "mAR5XcjLWxCE"
      },
      "source": [
        "# LR"
      ]
    },
    {
      "cell_type": "code",
      "metadata": {
        "id": "PQyCdx9XM0vr"
      },
      "source": [
        "probs = logiReg.predict_proba(X_test)"
      ],
      "execution_count": null,
      "outputs": []
    },
    {
      "cell_type": "code",
      "metadata": {
        "id": "YccfLyhxM3cH"
      },
      "source": [
        "malignant_probs = probs[:,1]\n",
        "fpr, tpr, thresholds = roc_curve(y_test, malignant_probs)\n",
        "roc_auc = auc(fpr, tpr)"
      ],
      "execution_count": null,
      "outputs": []
    },
    {
      "cell_type": "code",
      "metadata": {
        "colab": {
          "base_uri": "https://localhost:8080/",
          "height": 295
        },
        "id": "Girh-YIaM5YT",
        "outputId": "14570d82-8de3-4c0f-c800-fff1d3a4b9d8"
      },
      "source": [
        "plt.title('Receiver Operating Characteristic(ROC)')\n",
        "plt.plot(fpr, tpr, 'y', label = 'AUC = %0.2f' % roc_auc)\n",
        "plt.legend(loc = 'lower right')\n",
        "plt.plot([0, 1], [0, 1],'r--')\n",
        "plt.xlim([-0.05, 1.05])\n",
        "plt.ylim([-0.05, 1.05])\n",
        "plt.ylabel('True Positive Rate')\n",
        "plt.xlabel('False Positive Rate')\n",
        "plt.show()"
      ],
      "execution_count": null,
      "outputs": [
        {
          "output_type": "display_data",
          "data": {
            "image/png": "[encoded data removed]",
            "text/plain": [
              "<Figure size 432x288 with 1 Axes>"
            ]
          },
          "metadata": {
            "tags": [],
            "needs_background": "light"
          }
        }
      ]
    },
    {
      "cell_type": "code",
      "metadata": {
        "id": "Gz1_j9y7M942"
      },
      "source": [
        "y_pred = logiReg.predict(X_test)"
      ],
      "execution_count": null,
      "outputs": []
    },
    {
      "cell_type": "code",
      "metadata": {
        "colab": {
          "base_uri": "https://localhost:8080/"
        },
        "id": "hQkSyLPRNAZr",
        "outputId": "1ee85a4c-74f7-488c-924a-b1f6546b4fd4"
      },
      "source": [
        "print(\"recall score: \", recall_score(y_test, y_pred))\n",
        "print(\"precision score: \", precision_score(y_test, y_pred))\n",
        "print(\"f1 score: \", f1_score(y_test, y_pred))\n",
        "print(\"accuracy: \", accuracy_score(y_test, y_pred))\n"
      ],
      "execution_count": null,
      "outputs": [
        {
          "output_type": "stream",
          "text": [
            "recall score:  0.9655172413793104\n",
            "precision score:  0.8235294117647058\n",
            "f1 score:  0.888888888888889\n",
            "accuracy:  0.8852459016393442\n"
          ],
          "name": "stdout"
        }
      ]
    },
    {
      "cell_type": "code",
      "metadata": {
        "colab": {
          "base_uri": "https://localhost:8080/"
        },
        "id": "ENrcOBwVNCd0",
        "outputId": "45e5fd30-3973-4956-9ea1-37b848b07d7d"
      },
      "source": [
        "total = sum(sum(lr_conf_matrix))\n",
        "accuracy=(lr_conf_matrix[0,0]+lr_conf_matrix[1,1])/total\n",
        "print ('Accuracy : ', accuracy)\n",
        "\n",
        "sensitivity = lr_conf_matrix[0,0]/(lr_conf_matrix[0,0]+lr_conf_matrix[0,1])\n",
        "print('Sensitivity : ', sensitivity )\n",
        "\n",
        "specificity = lr_conf_matrix[1,1]/(lr_conf_matrix[1,0]+lr_conf_matrix[1,1])\n",
        "print('Specificity : ', specificity)"
      ],
      "execution_count": null,
      "outputs": [
        {
          "output_type": "stream",
          "text": [
            "Accuracy :  0.8852459016393442\n",
            "Sensitivity :  0.8125\n",
            "Specificity :  0.9655172413793104\n"
          ],
          "name": "stdout"
        }
      ]
    },
    {
      "cell_type": "markdown",
      "metadata": {
        "id": "i9LBAH4XW1Kd"
      },
      "source": [
        "# svm classifier"
      ]
    },
    {
      "cell_type": "code",
      "metadata": {
        "id": "eAX8Mh53NETF"
      },
      "source": [
        "probs = svc.predict_proba(X_test)"
      ],
      "execution_count": null,
      "outputs": []
    },
    {
      "cell_type": "code",
      "metadata": {
        "id": "3i4Tzcb0NGfr"
      },
      "source": [
        "malignant_probs = probs[:,1]\n",
        "fpr, tpr, thresholds = roc_curve(y_test, malignant_probs)\n",
        "roc_auc = auc(fpr, tpr)"
      ],
      "execution_count": null,
      "outputs": []
    },
    {
      "cell_type": "code",
      "metadata": {
        "colab": {
          "base_uri": "https://localhost:8080/",
          "height": 295
        },
        "id": "viLDazfTNHzm",
        "outputId": "e566f8b6-ab6e-40f8-b027-e59bbd2ff6a9"
      },
      "source": [
        "plt.title('Receiver Operating Characteristic(ROC)')\n",
        "plt.plot(fpr, tpr, 'y', label = 'AUC = %0.2f' % roc_auc)\n",
        "plt.legend(loc = 'lower right')\n",
        "plt.plot([0, 1], [0, 1],'r--')\n",
        "plt.xlim([-0.05, 1.05])\n",
        "plt.ylim([-0.05, 1.05])\n",
        "plt.ylabel('True Positive Rate')\n",
        "plt.xlabel('False Positive Rate')\n",
        "plt.show()"
      ],
      "execution_count": null,
      "outputs": [
        {
          "output_type": "display_data",
          "data": {
            "image/png": "[encoded data removed]",
            "text/plain": [
              "<Figure size 432x288 with 1 Axes>"
            ]
          },
          "metadata": {
            "tags": [],
            "needs_background": "light"
          }
        }
      ]
    },
    {
      "cell_type": "code",
      "metadata": {
        "id": "nIHeLugoNJK2"
      },
      "source": [
        "y_pred = svc.predict(X_test)"
      ],
      "execution_count": null,
      "outputs": []
    },
    {
      "cell_type": "code",
      "metadata": {
        "colab": {
          "base_uri": "https://localhost:8080/"
        },
        "id": "lhD13xAANLas",
        "outputId": "9274e432-b2c0-4a57-fb65-e01005f7334f"
      },
      "source": [
        "print(\"recall score: \", recall_score(y_test, y_pred))\n",
        "print(\"precision score: \", precision_score(y_test, y_pred))\n",
        "print(\"f1 score: \", f1_score(y_test, y_pred))\n",
        "print(\"accuracy: \", accuracy_score(y_test, y_pred))"
      ],
      "execution_count": null,
      "outputs": [
        {
          "output_type": "stream",
          "text": [
            "recall score:  0.9655172413793104\n",
            "precision score:  0.8235294117647058\n",
            "f1 score:  0.888888888888889\n",
            "accuracy:  0.8852459016393442\n"
          ],
          "name": "stdout"
        }
      ]
    },
    {
      "cell_type": "code",
      "metadata": {
        "colab": {
          "base_uri": "https://localhost:8080/"
        },
        "id": "w-anC31vNM40",
        "outputId": "8c87e680-aea2-4654-c686-5525b874d14a"
      },
      "source": [
        "total = sum(sum(svc_conf_matrix))\n",
        "accuracy=(svc_conf_matrix[0,0]+svc_conf_matrix[1,1])/total\n",
        "print ('Accuracy : ', accuracy)\n",
        "sensitivity = svc_conf_matrix[0,0]/(svc_conf_matrix[0,0]+svc_conf_matrix[0,1])\n",
        "print('Sensitivity : ', sensitivity )\n",
        "specificity = svc_conf_matrix[1,1]/(svc_conf_matrix[1,0]+svc_conf_matrix[1,1])\n",
        "print('Specificity : ', specificity)"
      ],
      "execution_count": null,
      "outputs": [
        {
          "output_type": "stream",
          "text": [
            "Accuracy :  0.8852459016393442\n",
            "Sensitivity :  0.8125\n",
            "Specificity :  0.9655172413793104\n"
          ],
          "name": "stdout"
        }
      ]
    },
    {
      "cell_type": "markdown",
      "metadata": {
        "id": "U2evtLpSW7ng"
      },
      "source": [
        "# bayes"
      ]
    },
    {
      "cell_type": "code",
      "metadata": {
        "id": "S-k4fniQNOI4"
      },
      "source": [
        "probs = bayes.predict_proba(X_test)"
      ],
      "execution_count": null,
      "outputs": []
    },
    {
      "cell_type": "code",
      "metadata": {
        "id": "PlKkT-luNQA6"
      },
      "source": [
        "malignant_probs = probs[:,1]\n",
        "fpr, tpr, thresholds = roc_curve(y_test, malignant_probs)\n",
        "roc_auc = auc(fpr, tpr)"
      ],
      "execution_count": null,
      "outputs": []
    },
    {
      "cell_type": "code",
      "metadata": {
        "colab": {
          "base_uri": "https://localhost:8080/",
          "height": 295
        },
        "id": "At421_4nNRVy",
        "outputId": "fe3a1e66-6cd5-481c-a38d-799c1234a8a0"
      },
      "source": [
        "plt.title('Receiver Operating Characteristic(ROC)')\n",
        "plt.plot(fpr, tpr, 'y', label = 'AUC = %0.2f' % roc_auc)\n",
        "plt.legend(loc = 'lower right')\n",
        "plt.plot([0, 1], [0, 1],'r--')\n",
        "plt.xlim([-0.05, 1.05])\n",
        "plt.ylim([-0.05, 1.05])\n",
        "plt.ylabel('True Positive Rate')\n",
        "plt.xlabel('False Positive Rate')\n",
        "plt.show()"
      ],
      "execution_count": null,
      "outputs": [
        {
          "output_type": "display_data",
          "data": {
            "image/png": "[encoded data removed]",
            "text/plain": [
              "<Figure size 432x288 with 1 Axes>"
            ]
          },
          "metadata": {
            "tags": [],
            "needs_background": "light"
          }
        }
      ]
    },
    {
      "cell_type": "code",
      "metadata": {
        "id": "v8ELhHVONSl6"
      },
      "source": [
        "y_pred = bayes.predict(X_test)"
      ],
      "execution_count": null,
      "outputs": []
    },
    {
      "cell_type": "code",
      "metadata": {
        "colab": {
          "base_uri": "https://localhost:8080/"
        },
        "id": "21GAudvNNU3N",
        "outputId": "36d1d1f2-3ae7-463f-c84f-e8dba1d230f3"
      },
      "source": [
        "print(\"recall score: \", recall_score(y_test, y_pred))\n",
        "print(\"precision score: \", precision_score(y_test, y_pred))\n",
        "print(\"f1 score: \", f1_score(y_test, y_pred))\n",
        "print(\"accuracy: \", accuracy_score(y_test, y_pred))"
      ],
      "execution_count": null,
      "outputs": [
        {
          "output_type": "stream",
          "text": [
            "recall score:  0.9310344827586207\n",
            "precision score:  0.8709677419354839\n",
            "f1 score:  0.9\n",
            "accuracy:  0.9016393442622951\n"
          ],
          "name": "stdout"
        }
      ]
    },
    {
      "cell_type": "code",
      "metadata": {
        "colab": {
          "base_uri": "https://localhost:8080/"
        },
        "id": "3zip4EDfNWQ_",
        "outputId": "e9c72bcc-c846-409d-dce4-c39d246077a5"
      },
      "source": [
        "total = sum(sum(bayes_conf_matrix))\n",
        "accuracy=(bayes_conf_matrix[0,0]+bayes_conf_matrix[1,1])/total\n",
        "print ('Accuracy : ', accuracy)\n",
        "sensitivity = bayes_conf_matrix[0,0]/(bayes_conf_matrix[0,0]+bayes_conf_matrix[0,1])\n",
        "print('Sensitivity : ', sensitivity )\n",
        "specificity = bayes_conf_matrix[1,1]/(bayes_conf_matrix[1,0]+bayes_conf_matrix[1,1])\n",
        "print('Specificity : ', specificity)"
      ],
      "execution_count": null,
      "outputs": [
        {
          "output_type": "stream",
          "text": [
            "Accuracy :  0.9016393442622951\n",
            "Sensitivity :  0.875\n",
            "Specificity :  0.9310344827586207\n"
          ],
          "name": "stdout"
        }
      ]
    },
    {
      "cell_type": "markdown",
      "metadata": {
        "id": "8sV9BRLIXAQh"
      },
      "source": [
        "# RF"
      ]
    },
    {
      "cell_type": "code",
      "metadata": {
        "id": "LzkEGq8ONipA"
      },
      "source": [
        "probs = randomForest.predict_proba(X_test)"
      ],
      "execution_count": null,
      "outputs": []
    },
    {
      "cell_type": "code",
      "metadata": {
        "id": "syYdfHVDNkZt"
      },
      "source": [
        "malignant_probs = probs[:,1]\n",
        "fpr, tpr, thresholds = roc_curve(y_test, malignant_probs)\n",
        "roc_auc = auc(fpr, tpr)"
      ],
      "execution_count": null,
      "outputs": []
    },
    {
      "cell_type": "code",
      "metadata": {
        "colab": {
          "base_uri": "https://localhost:8080/",
          "height": 295
        },
        "id": "2Q8dErctNl6M",
        "outputId": "9cef55d9-5518-4915-ad7f-2bb5d97e8e31"
      },
      "source": [
        "plt.title('Receiver Operating Characteristic(ROC)')\n",
        "plt.plot(fpr, tpr, 'y', label = 'AUC = %0.2f' % roc_auc)\n",
        "plt.legend(loc = 'lower right')\n",
        "plt.plot([0, 1], [0, 1],'r--')\n",
        "plt.xlim([-0.05, 1.05])\n",
        "plt.ylim([-0.05, 1.05])\n",
        "plt.ylabel('True Positive Rate')\n",
        "plt.xlabel('False Positive Rate')\n",
        "plt.show()"
      ],
      "execution_count": null,
      "outputs": [
        {
          "output_type": "display_data",
          "data": {
            "image/png": "[encoded data removed]",
            "text/plain": [
              "<Figure size 432x288 with 1 Axes>"
            ]
          },
          "metadata": {
            "tags": [],
            "needs_background": "light"
          }
        }
      ]
    },
    {
      "cell_type": "code",
      "metadata": {
        "id": "2sn1f6zgNnhD"
      },
      "source": [
        "y_pred = randomForest.predict(X_test)"
      ],
      "execution_count": null,
      "outputs": []
    },
    {
      "cell_type": "code",
      "metadata": {
        "colab": {
          "base_uri": "https://localhost:8080/"
        },
        "id": "6qyLg_WDNpbu",
        "outputId": "e44543e4-3a18-4c6b-b98f-561260202e82"
      },
      "source": [
        "print(\"recall score: \", recall_score(y_test, y_pred))\n",
        "print(\"precision score: \", precision_score(y_test, y_pred))\n",
        "print(\"f1 score: \", f1_score(y_test, y_pred))\n",
        "print(\"accuracy: \", accuracy_score(y_test, y_pred))"
      ],
      "execution_count": null,
      "outputs": [
        {
          "output_type": "stream",
          "text": [
            "recall score:  1.0\n",
            "precision score:  0.8285714285714286\n",
            "f1 score:  0.90625\n",
            "accuracy:  0.9016393442622951\n"
          ],
          "name": "stdout"
        }
      ]
    },
    {
      "cell_type": "code",
      "metadata": {
        "colab": {
          "base_uri": "https://localhost:8080/"
        },
        "id": "pItH_awKNqpl",
        "outputId": "880cfe32-88df-44e8-cf56-dc7e98c2935b"
      },
      "source": [
        "total = sum(sum(randomForest_conf_matrix))\n",
        "accuracy=(randomForest_conf_matrix[0,0]+randomForest_conf_matrix[1,1])/total\n",
        "print ('Accuracy : ', accuracy)\n",
        "sensitivity = randomForest_conf_matrix[0,0]/(randomForest_conf_matrix[0,0]+randomForest_conf_matrix[0,1])\n",
        "print('Sensitivity : ', sensitivity )\n",
        "specificity = randomForest_conf_matrix[1,1]/(randomForest_conf_matrix[1,0]+randomForest_conf_matrix[1,1])\n",
        "print('Specificity : ', specificity)"
      ],
      "execution_count": null,
      "outputs": [
        {
          "output_type": "stream",
          "text": [
            "Accuracy :  0.9016393442622951\n",
            "Sensitivity :  0.8125\n",
            "Specificity :  1.0\n"
          ],
          "name": "stdout"
        }
      ]
    },
    {
      "cell_type": "markdown",
      "metadata": {
        "id": "O-7UxD_tXDRy"
      },
      "source": [
        "# dt"
      ]
    },
    {
      "cell_type": "code",
      "metadata": {
        "id": "lrVyUrYrNsHG"
      },
      "source": [
        "probs = dTree.predict_proba(X_test)"
      ],
      "execution_count": null,
      "outputs": []
    },
    {
      "cell_type": "code",
      "metadata": {
        "id": "vfH5O_D0NuPD"
      },
      "source": [
        "malignant_probs = probs[:,1]\n",
        "fpr, tpr, thresholds = roc_curve(y_test, malignant_probs)\n",
        "roc_auc = auc(fpr, tpr)"
      ],
      "execution_count": null,
      "outputs": []
    },
    {
      "cell_type": "code",
      "metadata": {
        "colab": {
          "base_uri": "https://localhost:8080/"
        },
        "id": "954XegUoNvho",
        "outputId": "75af18f3-6e72-4e26-893e-46ee5498738a"
      },
      "source": [
        "plt.title('Receiver Operating Characteristic(ROC)')\n",
        "plt.plot(fpr, tpr, 'y', label = 'AUC = %0.2f' % roc_auc)\n",
        "plt.legend(loc = 'lower right')\n",
        "plt.plot([0, 1], [0, 1],'r--')\n",
        "plt.xlim([-0.05, 1.05])\n",
        "plt.ylim([-0.05, 1.05])\n",
        "plt.ylabel('True Positive Rate')\n",
        "plt.xlabel('False Positive Rate')\n",
        "plt.show()"
      ],
      "execution_count": null,
      "outputs": [
        {
          "output_type": "display_data",
          "data": {
            "image/png": "[encoded data removed]",
            "text/plain": [
              "<Figure size 432x288 with 1 Axes>"
            ]
          },
          "metadata": {
            "tags": [],
            "needs_background": "light"
          }
        }
      ]
    },
    {
      "cell_type": "code",
      "metadata": {
        "id": "FJRYuVAkNxCR"
      },
      "source": [
        "y_pred = dTree.predict(X_test)"
      ],
      "execution_count": null,
      "outputs": []
    },
    {
      "cell_type": "code",
      "metadata": {
        "colab": {
          "base_uri": "https://localhost:8080/"
        },
        "id": "Xzy7tq8tNyxb",
        "outputId": "621130a2-3686-450f-c20c-4d138d9dc28d"
      },
      "source": [
        "print(\"recall score: \", recall_score(y_test, y_pred))\n",
        "print(\"precision score: \", precision_score(y_test, y_pred))\n",
        "print(\"f1 score: \", f1_score(y_test, y_pred))\n",
        "print(\"accuracy: \", accuracy_score(y_test, y_pred))"
      ],
      "execution_count": null,
      "outputs": [
        {
          "output_type": "stream",
          "text": [
            "recall score:  0.9310344827586207\n",
            "precision score:  0.8709677419354839\n",
            "f1 score:  0.9\n",
            "accuracy:  0.9016393442622951\n"
          ],
          "name": "stdout"
        }
      ]
    },
    {
      "cell_type": "code",
      "metadata": {
        "colab": {
          "base_uri": "https://localhost:8080/"
        },
        "id": "GNoqCv5oN0Te",
        "outputId": "ae51aa57-906c-4170-c1ea-f0a8f883c2a6"
      },
      "source": [
        "total = sum(sum(dTree_conf_matrix))\n",
        "accuracy=(dTree_conf_matrix[0,0]+dTree_conf_matrix[1,1])/total\n",
        "print ('Accuracy : ', accuracy)\n",
        "sensitivity = dTree_conf_matrix[0,0]/(dTree_conf_matrix[0,0]+dTree_conf_matrix[0,1])\n",
        "print('Sensitivity : ', sensitivity )\n",
        "specificity = dTree_conf_matrix[1,1]/(dTree_conf_matrix[1,0]+dTree_conf_matrix[1,1])\n",
        "print('Specificity : ', specificity)"
      ],
      "execution_count": null,
      "outputs": [
        {
          "output_type": "stream",
          "text": [
            "Accuracy :  0.9016393442622951\n",
            "Sensitivity :  0.875\n",
            "Specificity :  0.9310344827586207\n"
          ],
          "name": "stdout"
        }
      ]
    },
    {
      "cell_type": "markdown",
      "metadata": {
        "id": "JkwqUpcjXF_y"
      },
      "source": [
        "# knn"
      ]
    },
    {
      "cell_type": "code",
      "metadata": {
        "id": "7vNyG7LrN1oF"
      },
      "source": [
        "probs = knn.predict_proba(X_test)"
      ],
      "execution_count": null,
      "outputs": []
    },
    {
      "cell_type": "code",
      "metadata": {
        "id": "saLCV2WGN3rO"
      },
      "source": [
        "malignant_probs = probs[:,1]\n",
        "fpr, tpr, thresholds = roc_curve(y_test, malignant_probs)\n",
        "roc_auc = auc(fpr, tpr)"
      ],
      "execution_count": null,
      "outputs": []
    },
    {
      "cell_type": "code",
      "metadata": {
        "colab": {
          "base_uri": "https://localhost:8080/"
        },
        "id": "3doL8NI-N5AH",
        "outputId": "64d264e8-2628-45fe-b94b-ecca3904dc3f"
      },
      "source": [
        "plt.title('Receiver Operating Characteristic(ROC)')\n",
        "plt.plot(fpr, tpr, 'y', label = 'AUC = %0.2f' % roc_auc)\n",
        "plt.legend(loc = 'lower right')\n",
        "plt.plot([0, 1], [0, 1],'r--')\n",
        "plt.xlim([-0.05, 1.05])\n",
        "plt.ylim([-0.05, 1.05])\n",
        "plt.ylabel('True Positive Rate')\n",
        "plt.xlabel('False Positive Rate')\n",
        "plt.show()"
      ],
      "execution_count": null,
      "outputs": [
        {
          "output_type": "display_data",
          "data": {
            "image/png": "[encoded data removed]",
            "text/plain": [
              "<Figure size 432x288 with 1 Axes>"
            ]
          },
          "metadata": {
            "tags": [],
            "needs_background": "light"
          }
        }
      ]
    },
    {
      "cell_type": "code",
      "metadata": {
        "id": "hEKybIEcN6Qr"
      },
      "source": [
        "y_pred = knn.predict(X_test)"
      ],
      "execution_count": null,
      "outputs": []
    },
    {
      "cell_type": "code",
      "metadata": {
        "colab": {
          "base_uri": "https://localhost:8080/"
        },
        "id": "XJom1uEwN8XO",
        "outputId": "f3a977bf-cb80-420b-9ac1-333eed505230"
      },
      "source": [
        "print(\"recall score: \", recall_score(y_test, y_pred))\n",
        "print(\"precision score: \", precision_score(y_test, y_pred))\n",
        "print(\"f1 score: \", f1_score(y_test, y_pred))\n",
        "print(\"accuracy: \", accuracy_score(y_test, y_pred))"
      ],
      "execution_count": null,
      "outputs": [
        {
          "output_type": "stream",
          "text": [
            "recall score:  0.9310344827586207\n",
            "precision score:  0.8709677419354839\n",
            "f1 score:  0.9\n",
            "accuracy:  0.9016393442622951\n"
          ],
          "name": "stdout"
        }
      ]
    },
    {
      "cell_type": "code",
      "metadata": {
        "colab": {
          "base_uri": "https://localhost:8080/"
        },
        "id": "6av5TPfON9gV",
        "outputId": "2b06b725-87a4-456d-b67a-9eb709194a64"
      },
      "source": [
        "total = sum(sum(knn_conf_matrix))\n",
        "accuracy=(knn_conf_matrix[0,0]+knn_conf_matrix[1,1])/total\n",
        "print ('Accuracy : ', accuracy)\n",
        "sensitivity = knn_conf_matrix[0,0]/(knn_conf_matrix[0,0]+knn_conf_matrix[0,1])\n",
        "print('Sensitivity : ', sensitivity )\n",
        "specificity = knn_conf_matrix[1,1]/(knn_conf_matrix[1,0]+knn_conf_matrix[1,1])\n",
        "print('Specificity : ', specificity)"
      ],
      "execution_count": null,
      "outputs": [
        {
          "output_type": "stream",
          "text": [
            "Accuracy :  0.9016393442622951\n",
            "Sensitivity :  0.875\n",
            "Specificity :  0.9310344827586207\n"
          ],
          "name": "stdout"
        }
      ]
    },
    {
      "cell_type": "markdown",
      "metadata": {
        "id": "MoeETZnbEF4a"
      },
      "source": [
        "# accuracy graph"
      ]
    },
    {
      "cell_type": "code",
      "metadata": {
        "colab": {
          "base_uri": "https://localhost:8080/"
        },
        "id": "hl_7Qhj0N_DL",
        "outputId": "1b4b044c-04f6-4b03-8161-3e87207926b4"
      },
      "source": [
        "print('LogisticRegression Accuracy:\\t',logiRegAcu)\n",
        "print('RandomForest Accuracy:\\t\\t',randomForestAcu)\n",
        "print('DecisionTree Accuracy:\\t\\t',dTreeAcu)\n",
        "print('KNN Accuracy:\\t\\t\\t',knnAcu)\n",
        "print('SVM Classifier Accuracy:\\t',svcAcu)\n",
        "print('Bayes Accuracy:\\t\\t\\t',bayesAcu)\n",
        "print('xgboost Accuracy:\\t\\t', xgboost_accu)"
      ],
      "execution_count": null,
      "outputs": [
        {
          "output_type": "stream",
          "text": [
            "LogisticRegression Accuracy:\t 0.8852459016393442\n",
            "RandomForest Accuracy:\t\t 0.9016393442622951\n",
            "DecisionTree Accuracy:\t\t 0.9016393442622951\n",
            "KNN Accuracy:\t\t\t 0.9016393442622951\n",
            "SVM Classifier Accuracy:\t 0.8852459016393442\n",
            "Bayes Accuracy:\t\t\t 0.9016393442622951\n",
            "xgboost Accuracy:\t\t 0.9180327868852459\n"
          ],
          "name": "stdout"
        }
      ]
    },
    {
      "cell_type": "code",
      "metadata": {
        "colab": {
          "base_uri": "https://localhost:8080/",
          "height": 462
        },
        "id": "jeZtbPk1OBb2",
        "outputId": "5017c7d4-8908-4ef7-fd19-015f3ba3dc6f"
      },
      "source": [
        "modelAccuracy = pd.Series(data=[logiRegAcu,svcAcu,bayesAcu,randomForestAcu,dTreeAcu,knnAcu,xgboost_accu], \n",
        "index=['LogisticRegression','SVM Classifier','Bayes',\n",
        "'RandomForest','DecisionTree Classifier','KNN','XGBoost'])\n",
        "fig= plt.figure(figsize=(10,7))\n",
        "modelAccuracy.sort_values().plot.barh()\n",
        "plt.title('Model Accracy')"
      ],
      "execution_count": null,
      "outputs": [
        {
          "output_type": "execute_result",
          "data": {
            "text/plain": [
              "Text(0.5, 1.0, 'Model Accracy')"
            ]
          },
          "metadata": {
            "tags": []
          },
          "execution_count": 68
        },
        {
          "output_type": "display_data",
          "data": {
            "image/png": "[encoded data removed]",
            "text/plain": [
              "<Figure size 720x504 with 1 Axes>"
            ]
          },
          "metadata": {
            "tags": [],
            "needs_background": "light"
          }
        }
      ]
    },
    {
      "cell_type": "code",
      "metadata": {
        "id": "ZchoLZSKODf2"
      },
      "source": [],
      "execution_count": null,
      "outputs": []
    }
  ]
}